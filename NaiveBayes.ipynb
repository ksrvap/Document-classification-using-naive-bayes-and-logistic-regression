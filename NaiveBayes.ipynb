{
 "cells": [
  {
   "cell_type": "code",
   "execution_count": 21,
   "metadata": {},
   "outputs": [],
   "source": [
    "#importing all the required libraries\n",
    "import pandas as pd\n",
    "import numpy as np\n",
    "import matplotlib.pyplot as plt\n",
    "\n",
    "from sklearn.model_selection import train_test_split\n",
    "from scipy.special import entr\n",
    "from sklearn.metrics import confusion_matrix\n"
   ]
  },
  {
   "cell_type": "code",
   "execution_count": 22,
   "metadata": {},
   "outputs": [],
   "source": [
    "#importing the original training data\n",
    "df = pd.read_csv(r'S:\\CS\\SPRING_2022\\ML_529\\Project 2_NB and LR\\NaiveBayes\\training.csv')"
   ]
  },
  {
   "cell_type": "code",
   "execution_count": 23,
   "metadata": {},
   "outputs": [],
   "source": [
    "#Splitting the data into training and testing data in the ratio 80:20\n",
    "training_data, testing_data = train_test_split(df, test_size = .2, random_state = 42)\n",
    "\n",
    "#List of all the class labels for the training data\n",
    "class_labels = training_data[training_data.columns[-1]].unique()  \n",
    "\n",
    "#total number of different words in the dataset\n",
    "total_words = training_data.shape[1] - 2\n",
    "\n",
    "#likely matrix full of zero's\n",
    "likely_mtrx = np.zeros((len(class_labels), total_words))\n",
    "\n",
    "#beta_likely matrix which is used to form log_likelihood matrix\n",
    "beta_likely_mtrx =  np.zeros((len(class_labels), total_words))"
   ]
  },
  {
   "cell_type": "code",
   "execution_count": 27,
   "metadata": {
    "scrolled": true
   },
   "outputs": [],
   "source": [
    "#function for reshaping the training data\n",
    "def reshape_data(training_data):\n",
    "    \n",
    "    #here '1' and '14' are the names of index and class columns\n",
    "    new_columns = [column for column in training_data.columns if column not in ['1', '14']]\n",
    "    reshaped_data = training_data[new_columns]\n",
    "    \n",
    "    return reshaped_data"
   ]
  },
  {
   "cell_type": "code",
   "execution_count": 28,
   "metadata": {},
   "outputs": [],
   "source": [
    "#function for finding the priors\n",
    "def priors(training_data, class_labels):\n",
    "    #a dictionary to store priors for each class\n",
    "    prior_probs = {} \n",
    "    for i in class_labels:\n",
    "        #'14' is the name for class column\n",
    "        each_classdata = training_data[training_data['14'] == i]\n",
    "        prior_probs[i] = len(each_classdata) / float( len(training_data))\n",
    "    return prior_probs\n",
    "prior_probs = priors(training_data, class_labels)"
   ]
  },
  {
   "cell_type": "code",
   "execution_count": 29,
   "metadata": {},
   "outputs": [],
   "source": [
    "#different beta values in the form of a list\n",
    "beta_values = [.00001, .0001, .001, .01, .1, 1]\n",
    "\n",
    "#beta = 0.01\n",
    "beta = 1/total_words\n",
    "alpha = 1 + beta"
   ]
  },
  {
   "cell_type": "code",
   "execution_count": 30,
   "metadata": {},
   "outputs": [],
   "source": [
    "#function for finding the log likelihood matrix \n",
    "def likelihoods(training_data, beta):\n",
    "    #reshaping the training data\n",
    "    reshaped_data = reshape_data(training_data)\n",
    "    \n",
    "    #converting the values of the dataframe to np array\n",
    "    reshaped_array = reshaped_data.values\n",
    "    \n",
    "    #considering the nonzero positions of the resultant array\n",
    "    nonzero_pos = np.nonzero(reshaped_array)\n",
    "        \n",
    "    for pos in range(len(nonzero_pos[0])): \n",
    "        try:\n",
    "            row_pos = nonzero_pos[0][pos]\n",
    "            col_pos = nonzero_pos[1][pos]\n",
    "            value = reshaped_array[row_pos][col_pos]\n",
    "            row_cls = training_data.iloc[row_pos][-1]\n",
    "            current = likely_mtrx[row_cls-1 ][col_pos]\n",
    "            likely_mtrx[row_cls-1 ][col_pos] = current + value\n",
    "            \n",
    "        except IndexError:\n",
    "            print (nonzero_pos[0][pos], nonzero_pos[1][pos], training_data.iloc[row_pos][-1])\n",
    "            \n",
    "    #for each possible class the total words are calculated     \n",
    "    for i in range(len(class_labels)):  \n",
    "        class_wc = sum(likely_mtrx[i])\n",
    "        for j in range(total_words):\n",
    "            beta_likely = likely_mtrx[i][j]\n",
    "            beta_likely += beta \n",
    "            beta_likely /= (class_wc + (total_words * beta))\n",
    "            beta_likely_mtrx[i][j] = beta_likely \n",
    "            \n",
    "    log_likely_mtrx = np.log2(beta_likely_mtrx)\n",
    "    \n",
    "    #returns the log_likelihood matrix\n",
    "    return log_likely_mtrx"
   ]
  },
  {
   "cell_type": "code",
   "execution_count": 31,
   "metadata": {},
   "outputs": [],
   "source": [
    "#function to test the accuracy on validation data\n",
    "def validation(testing_data, beta): \n",
    "    log_likely_mtrx = likelihoods(training_data, beta)\n",
    "    \n",
    "    #a variable to store the count of correct predictions\n",
    "    count = 0\n",
    "    \n",
    "    #for each row of the validation data\n",
    "    for row in range(len(testing_data)):\n",
    "        actual_value = testing_data.iloc[row][-1]\n",
    "        updated_list = testing_data.iloc[row][1:-1].tolist()\n",
    "        c_results = []\n",
    "        \n",
    "        for i in range(len(class_labels)):\n",
    "            dot_product = np.log2(prior_probs[i+1]) + np.dot(updated_list, log_likely_mtrx[i])\n",
    "            c_results.append(dot_product)\n",
    "        predicted = int(np.argmax(c_results)) + 1\n",
    "        if actual_value == predicted:\n",
    "            count += 1\n",
    "    \n",
    "    #calculates the accuracy of validationd \n",
    "    training_accuracy = float (count) / len(testing_data)\n",
    "    \n",
    "    #returns validation accuracy\n",
    "    return training_accuracy"
   ]
  },
  {
   "cell_type": "code",
   "execution_count": 32,
   "metadata": {},
   "outputs": [
    {
     "name": "stdout",
     "output_type": "stream",
     "text": [
      "0.8604166666666667\n"
     ]
    }
   ],
   "source": [
    "training_accuracy = validation(testing_data, beta)\n",
    "print(training_accuracy)"
   ]
  },
  {
   "cell_type": "code",
   "execution_count": 33,
   "metadata": {},
   "outputs": [],
   "source": [
    "#function to test the actual testing data\n",
    "def testing(actual_test_data, beta):\n",
    "    log_likely_mtrx = likelihoods(training_data, beta)\n",
    "    \n",
    "    #a list to store the id and class of each row of testing data\n",
    "    result =[]\n",
    "    result.append(['id','class'])\n",
    "    \n",
    "    #iterates through each row\n",
    "    for i in range(len(actual_test_data)):\n",
    "        \n",
    "        #num_r = actual_test_data.iloc[i][0]\n",
    "        updated_list = actual_test_data.iloc[i][1:].tolist()\n",
    "        c_results = []\n",
    "        \n",
    "        for j in range(len(class_labels)):\n",
    "            dot_product = np.log2(prior_probs[j+1]) + np.dot(updated_list, log_likely_mtrx[j])\n",
    "            c_results.append(dot_product)\n",
    "        \n",
    "        #predicts the class for that row\n",
    "        predicted_class = int(np.argmax(c_results)) + 1\n",
    "        \n",
    "        #appends the id and class to the result list\n",
    "        result.append([i+12001, predicted_class])\n",
    "        \n",
    "    #returns the main result list\n",
    "    return result"
   ]
  },
  {
   "cell_type": "code",
   "execution_count": 34,
   "metadata": {},
   "outputs": [],
   "source": [
    "#importing the actual testing data\n",
    "actual_test_data = pd.read_csv(r'S:\\CS\\SPRING_2022\\ML_529\\Project 2_NB and LR\\NaiveBayes\\testing.csv',header=None)\n"
   ]
  },
  {
   "cell_type": "code",
   "execution_count": 35,
   "metadata": {},
   "outputs": [],
   "source": [
    "final_result = testing(actual_test_data, beta)\n",
    "\n",
    "# Saving the predicted values to a CSV file inorder to upload it to kaggle\n",
    "output = pd.DataFrame(final_result)\n",
    "output.to_csv(\"predicted.csv\", header = None, index= None)"
   ]
  },
  {
   "cell_type": "code",
   "execution_count": 13,
   "metadata": {},
   "outputs": [
    {
     "data": {
      "image/png": "[encoded data removed]",
      "text/plain": [
       "<Figure size 432x288 with 1 Axes>"
      ]
     },
     "metadata": {
      "needs_background": "light"
     },
     "output_type": "display_data"
    }
   ],
   "source": [
    "#a list to store the accuracies of validation data for each beta\n",
    "accuracies=[]\n",
    "\n",
    "#iterates over each beta value\n",
    "for beta in beta_values:\n",
    "    training_accuracy = validation(testing_data, beta)\n",
    "    accuracies.append(training_accuracy)\n",
    "#print(accuracies)\n",
    "\n",
    "#plotting the graph of beta vs accuracy\n",
    "plt.semilogx(beta_values, accuracies, linewidth=2.0)\n",
    "plt.xlabel('Beta')\n",
    "plt.ylabel('Accuracy')\n",
    "plt.title('Accuracy w.r.t beta ')\n",
    "plt.show() "
   ]
  },
  {
   "cell_type": "code",
   "execution_count": 36,
   "metadata": {},
   "outputs": [
    {
     "name": "stdout",
     "output_type": "stream",
     "text": [
      "[[ 98   0   0   0   0   0   0   0   0   0   0   0   0   1   0   4   0   1\n",
      "    0   5]\n",
      " [  0 114   3   3   4   6   0   0   0   0   0   2   3   2   1   0   0   0\n",
      "    0   0]\n",
      " [  0   8  92  14   1   8   3   0   1   0   0   1   2   0   2   0   0   1\n",
      "    0   0]\n",
      " [  0   5   8  94  10   1   3   0   0   0   0   4   7   0   0   0   1   0\n",
      "    0   0]\n",
      " [  0   3   1   5  82   1   2   1   0   0   0   3   7   2   2   0   0   0\n",
      "    1   0]\n",
      " [  0   9   3   1   1 100   1   1   0   0   0   0   0   0   1   0   0   0\n",
      "    0   0]\n",
      " [  0   2   1   6   1   0  83   8   0   0   0   1   5   3   0   0   0   0\n",
      "    1   0]\n",
      " [  0   1   0   0   1   1   2  97   3   0   0   1   1   1   1   0   0   0\n",
      "    0   0]\n",
      " [  0   0   0   0   0   0   0   2 146   0   0   0   2   0   0   0   1   0\n",
      "    0   0]\n",
      " [  0   0   0   0   0   0   0   0   1 138   2   0   0   0   2   0   1   0\n",
      "    0   0]\n",
      " [  0   0   0   0   0   0   0   0   0   0 128   1   0   0   0   0   0   0\n",
      "    0   0]\n",
      " [  0   0   1   0   1   2   0   0   0   0   0 121   0   0   1   0   1   2\n",
      "    1   0]\n",
      " [  0   3   2   5   4   1   3   1   1   0   0   4  85   3   7   0   1   0\n",
      "    0   0]\n",
      " [  0   4   0   2   0   0   0   0   2   0   0   1   2 109   1   0   1   0\n",
      "    0   0]\n",
      " [  0   1   0   1   1   0   1   1   1   0   0   0   1   0 110   0   0   1\n",
      "    0   0]\n",
      " [  1   1   0   1   0   0   0   0   0   0   0   0   0   0   0 117   0   1\n",
      "    0   3]\n",
      " [  1   0   0   0   0   0   0   1   0   0   0   1   0   0   0   0 101   0\n",
      "    4   1]\n",
      " [  1   0   0   0   0   0   0   0   1   0   0   3   0   0   1   0   0 117\n",
      "    1   0]\n",
      " [  0   0   0   0   0   0   0   0   0   0   0   1   0   0   2   0   9   0\n",
      "   72   0]\n",
      " [  9   0   0   0   0   1   0   0   0   0   0   1   0   1   0   8   3   1\n",
      "    3  58]]\n"
     ]
    }
   ],
   "source": [
    "#function to print the confusion matrix\n",
    "def conf_matrix(testing_data, beta):\n",
    "    log_likely_mtrx = likelihoods(training_data, beta)\n",
    "    \n",
    "    #it stores the actual classes of validation data\n",
    "    original_classes=np.array(list(testing_data[testing_data.columns[-1]]))\n",
    "    \n",
    "    #a list to store the predicted classes\n",
    "    pred_classes=[]\n",
    "    \n",
    "    #predicting the class for each row\n",
    "    for row in range(len(testing_data)):\n",
    "        actual_value = testing_data.iloc[row][-1]\n",
    "        updated_list = testing_data.iloc[row][1:-1].tolist()\n",
    "        c_results = []\n",
    "        \n",
    "        for i in range(len(class_labels)):\n",
    "            dot_product = np.log2(prior_probs[i+1]) + np.dot(updated_list, log_likely_mtrx[i])\n",
    "            c_results.append(dot_product)\n",
    "            \n",
    "        predicted = int(np.argmax(c_results)) + 1\n",
    "        pred_classes.append(predicted)\n",
    "    predicted_classes = np.array(pred_classes)\n",
    "    \n",
    "    #prints the confusion matirx\n",
    "    print(confusion_matrix(original_classes, predicted_classes))\n",
    "\n",
    "conf_matrix(testing_data, beta)"
   ]
  },
  {
   "cell_type": "code",
   "execution_count": 38,
   "metadata": {},
   "outputs": [
    {
     "name": "stdout",
     "output_type": "stream",
     "text": [
      "['vijay', 'iheirent', 'sinnokf', 'sheoak', 'ucnv', 'redgum', 'pethybridge', 'pedantic', 'psd', 'sourcing', 'tranmit', 'austrailian', 'mmunic', 'ation', 'jaehyung', 'steenking', 'corpus', 'christi', 'engga', 'grandfathered', 'regulatory', 'condensing', 'aerodynamic', 'droplets', 'condensate', 'hotwell', 'clocking', 'midget', 'stich', 'electricans', 'vcb', 'cob', 'mpaul', 'acq', 'hct', 'oddball', 'datasheets', 'sprinkling', 'ballast', 'misrepresents', 'bimetalic', 'mustafa', 'dripping', 'smu', 'zsc', 'chuckling', 'uww', 'frankh', 'wpa', 'hpcuhe', 'lowers', 'cussed', 'toggled', 'regrettable', 'stain', 'adrift', 'pspice', 'clamping', 'impure', 'vender', 'eleceng', 'routh', 'krouth', 'ibmmail', 'profs', 'usfmctmf', 'eld', 'facsimile', 'mora', 'trygon', 'smd', 'elevators', 'tachistoscope', 'flourescent', 'sealing', 'barrels', 'giggling', 'elevator', 'susannah', 'witchcraft', 'dehydrators', 'dehydrator', 'coastline', 'pinpoint', 'cathode', 'pulsed', 'gleaming', 'icbo', 'ingenious', 'mdgoodma', 'sgs', 'dnewman', 'farmland', 'infertile', 'opamps', 'relativly', 'equipments', 'itr', 'heatsinks', 'arrevola']\n"
     ]
    }
   ],
   "source": [
    "#loading the vocabulary to perform ranking operation\n",
    "vocabulary = np.loadtxt(r\"S:\\CS\\SPRING_2022\\ML_529\\Project 2_NB and LR\\NaiveBayes\\vocabulary.txt\", dtype=\"str\")\n",
    "\n",
    "#function to find the rank of words\n",
    "def rank():\n",
    "    \n",
    "    #reshaping the training data and converting it to np array\n",
    "    reshaped_data = reshape_data(training_data)\n",
    "    reshaped_array = reshaped_data.to_numpy()\n",
    "    \n",
    "    # Returns a sparse matrix with positions/index of non-zero elements\n",
    "    nonzero_pos = np.nonzero(reshaped_array)\n",
    "    likely_mtrx = np.zeros((len(class_labels), total_words))\n",
    "\n",
    "    for pos in range(len(nonzero_pos)):\n",
    "        try:\n",
    "            row_pos = nonzero_pos[0][pos]\n",
    "            col_pos = nonzero_pos[1][pos]\n",
    "            value = reshaped_array[row_pos][col_pos]\n",
    "            row_cls = training_data.iloc[row_pos][-1]\n",
    "            likely_mtrx[row_cls -1 ][col_pos] += value\n",
    "        except:\n",
    "            print (nonzero_pos[0][pos], nonzero_pos[1][pos], training_data.iloc[row_pos][-1])\n",
    "        \n",
    "    class_wc = np.sum(likely_mtrx, axis=1)\n",
    "    \n",
    "    prob_of_words = np.transpose(((np.transpose(likely_mtrx))+alpha-1)/(class_wc + ((alpha -1)* total_words)))\n",
    "\n",
    "    # from the function entr scipy\n",
    "    # It calculates entropy values from the probs of each words\n",
    "    entr_values = entr(prob_of_words)\n",
    "    sum_entr_values = np.sum(entr_values, axis =0)\n",
    "\n",
    "    # top 100 ranked words indices\n",
    "    rank_indices = sum_entr_values.argsort()[:100]\n",
    "    \n",
    "    #returns the indices of ranks\n",
    "    return rank_indices\n",
    "\n",
    "rank_indices = rank() \n",
    "\n",
    "#prints the top 100 words by rank\n",
    "print(list(vocabulary[rank_indices]))"
   ]
  }
 ],
 "metadata": {
  "kernelspec": {
   "display_name": "Python 3 (ipykernel)",
   "language": "python",
   "name": "python3"
  },
  "language_info": {
   "codemirror_mode": {
    "name": "ipython",
    "version": 3
   },
   "file_extension": ".py",
   "mimetype": "text/x-python",
   "name": "python",
   "nbconvert_exporter": "python",
   "pygments_lexer": "ipython3",
   "version": "3.9.7"
  }
 },
 "nbformat": 4,
 "nbformat_minor": 2
}
